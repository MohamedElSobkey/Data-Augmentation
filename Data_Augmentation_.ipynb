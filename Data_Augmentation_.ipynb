{
  "nbformat": 4,
  "nbformat_minor": 0,
  "metadata": {
    "colab": {
      "private_outputs": true,
      "provenance": [],
      "authorship_tag": "ABX9TyN+ZvNmXec2gXUmMM8t+HMd",
      "include_colab_link": true
    },
    "kernelspec": {
      "name": "python3",
      "display_name": "Python 3"
    },
    "language_info": {
      "name": "python"
    }
  },
  "cells": [
    {
      "cell_type": "markdown",
      "metadata": {
        "id": "view-in-github",
        "colab_type": "text"
      },
      "source": [
        "<a href=\"https://colab.research.google.com/github/MohamedElSobkey/Data-Augmentation/blob/main/Data_Augmentation_.ipynb\" target=\"_parent\"><img src=\"https://colab.research.google.com/assets/colab-badge.svg\" alt=\"Open In Colab\"/></a>"
      ]
    },
    {
      "cell_type": "code",
      "execution_count": null,
      "metadata": {
        "id": "UFqryk0ELt0n"
      },
      "outputs": [],
      "source": [
        "#Import libraries\n",
        "from keras.preprocessing.image import ImageDataGenerator\n",
        "from tensorflow.keras.utils import array_to_img, img_to_array, load_img"
      ]
    },
    {
      "cell_type": "code",
      "source": [
        "datagen = ImageDataGenerator (\n",
        "    rotation_range = 40,\n",
        "\t\tshear_range = 0.2,\n",
        "\t\tzoom_range = 0.2,\n",
        "\t\thorizontal_flip = True,\n",
        "\t\tbrightness_range = (0.5, 1.5))\n",
        "# Read image\n",
        "img = load_img('Image.jpg')\n",
        "# convert it to array\n",
        "x = img_to_array(img)\n",
        "# (300,500,3) to (1,300,500,3) 1 to be in array\n",
        "x = x.reshape((1, ) + x.shape)\n",
        "# batch_size = 1 for one image\n",
        "i = 0\n",
        "for batch in datagen.flow(x, batch_size = 1, save_to_dir =r'/content/prreview',\n",
        "\t\t\t\t\t\tsave_prefix ='image', save_format ='jpeg'):\n",
        "\ti += 1\n",
        "\tif i > 5:\n",
        "\t\tbreak"
      ],
      "metadata": {
        "id": "jI5AibJDOrcP"
      },
      "execution_count": null,
      "outputs": []
    },
    {
      "cell_type": "code",
      "source": [
        "import os\n",
        "import matplotlib.pyplot as plt"
      ],
      "metadata": {
        "id": "t0Emj8ktU3t9"
      },
      "execution_count": null,
      "outputs": []
    },
    {
      "cell_type": "code",
      "source": [
        "for i in os.listdir('/content/prreview') :\n",
        "  plt.imshow(plt.imread(os.path.join('/content/prreview',i)))\n",
        "  plt.show()"
      ],
      "metadata": {
        "id": "e8Iv1G7gVvb1"
      },
      "execution_count": null,
      "outputs": []
    }
  ]
}